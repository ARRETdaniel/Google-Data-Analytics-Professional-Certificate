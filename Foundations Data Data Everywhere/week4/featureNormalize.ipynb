{
 "cells": [
  {
   "cell_type": "markdown",
   "metadata": {},
   "source": [
    "https://towardsdatascience.com/all-about-feature-scaling-bcc0ad75cb35\n",
    "\n",
    "https://www.analyticsvidhya.com/blog/2021/08/python-tutorial-working-with-csv-file-for-data-science/\n",
    "\n",
    "https://machinelearningmastery.com/standardscaler-and-minmaxscaler-transforms-in-python/\n",
    "\n",
    "## Min-Max scaler"
   ]
  },
  {
   "cell_type": "code",
   "execution_count": 108,
   "metadata": {},
   "outputs": [
    {
     "name": "stdout",
     "output_type": "stream",
     "text": [
      "7\n",
      "20\n",
      "33\n",
      "46\n",
      "59\n",
      "{'DATE': '10/23/2022', 'UNLOCKSCREEN': '59', 'COLDDAY': '1', 'DRUNKCOFFEE': '4', 'feature scaling UNLOCK SCREEN': '1.134615385', 'feature scaling DRUNK COFFEE': '1'}\n"
     ]
    },
    {
     "data": {
      "text/plain": [
       "[{'DATE': '10/19/2022',\n",
       "  'UNLOCKSCREEN': '7',\n",
       "  'COLDDAY': '0',\n",
       "  'DRUNKCOFFEE': '0',\n",
       "  'feature scaling UNLOCK SCREEN': '0.1346153846',\n",
       "  'feature scaling DRUNK COFFEE': '0'},\n",
       " {'DATE': '10/20/2022',\n",
       "  'UNLOCKSCREEN': '20',\n",
       "  'COLDDAY': '1',\n",
       "  'DRUNKCOFFEE': '1',\n",
       "  'feature scaling UNLOCK SCREEN': '0.3846153846',\n",
       "  'feature scaling DRUNK COFFEE': '0.25'},\n",
       " {'DATE': '10/21/2022',\n",
       "  'UNLOCKSCREEN': '33',\n",
       "  'COLDDAY': '1',\n",
       "  'DRUNKCOFFEE': '2',\n",
       "  'feature scaling UNLOCK SCREEN': '0.6346153846',\n",
       "  'feature scaling DRUNK COFFEE': '0.5'},\n",
       " {'DATE': '10/22/2022',\n",
       "  'UNLOCKSCREEN': '46',\n",
       "  'COLDDAY': '1',\n",
       "  'DRUNKCOFFEE': '3',\n",
       "  'feature scaling UNLOCK SCREEN': '0.8846153846',\n",
       "  'feature scaling DRUNK COFFEE': '0.75'},\n",
       " {'DATE': '10/23/2022',\n",
       "  'UNLOCKSCREEN': '59',\n",
       "  'COLDDAY': '1',\n",
       "  'DRUNKCOFFEE': '4',\n",
       "  'feature scaling UNLOCK SCREEN': '1.134615385',\n",
       "  'feature scaling DRUNK COFFEE': '1'}]"
      ]
     },
     "execution_count": 108,
     "metadata": {},
     "output_type": "execute_result"
    }
   ],
   "source": [
    "\n",
    "import csv\n",
    "with open('Data chart template - Template.csv', newline='') as csvfile:\n",
    "  rows = []\n",
    "  reader = csv.DictReader(csvfile)\n",
    "  for row in reader:\n",
    "      print(row['UNLOCKSCREEN'])\n",
    "      rows.append(row)\n",
    "      \n",
    "      \n",
    "print(row)\n",
    "\n",
    "\n",
    "rows\n"
   ]
  },
  {
   "cell_type": "code",
   "execution_count": 125,
   "metadata": {},
   "outputs": [
    {
     "data": {
      "text/html": [
       "<div>\n",
       "<style scoped>\n",
       "    .dataframe tbody tr th:only-of-type {\n",
       "        vertical-align: middle;\n",
       "    }\n",
       "\n",
       "    .dataframe tbody tr th {\n",
       "        vertical-align: top;\n",
       "    }\n",
       "\n",
       "    .dataframe thead th {\n",
       "        text-align: right;\n",
       "    }\n",
       "</style>\n",
       "<table border=\"1\" class=\"dataframe\">\n",
       "  <thead>\n",
       "    <tr style=\"text-align: right;\">\n",
       "      <th></th>\n",
       "      <th>DATE</th>\n",
       "      <th>UNLOCKSCREEN</th>\n",
       "      <th>COLDDAY</th>\n",
       "      <th>DRUNKCOFFEE</th>\n",
       "      <th>feature scaling UNLOCK SCREEN</th>\n",
       "      <th>feature scaling DRUNK COFFEE</th>\n",
       "    </tr>\n",
       "  </thead>\n",
       "  <tbody>\n",
       "    <tr>\n",
       "      <th>0</th>\n",
       "      <td>10/19/2022</td>\n",
       "      <td>7</td>\n",
       "      <td>0</td>\n",
       "      <td>0</td>\n",
       "      <td>0.134615</td>\n",
       "      <td>0.00</td>\n",
       "    </tr>\n",
       "    <tr>\n",
       "      <th>1</th>\n",
       "      <td>10/20/2022</td>\n",
       "      <td>20</td>\n",
       "      <td>1</td>\n",
       "      <td>1</td>\n",
       "      <td>0.384615</td>\n",
       "      <td>0.25</td>\n",
       "    </tr>\n",
       "    <tr>\n",
       "      <th>2</th>\n",
       "      <td>10/21/2022</td>\n",
       "      <td>33</td>\n",
       "      <td>1</td>\n",
       "      <td>2</td>\n",
       "      <td>0.634615</td>\n",
       "      <td>0.50</td>\n",
       "    </tr>\n",
       "    <tr>\n",
       "      <th>3</th>\n",
       "      <td>10/22/2022</td>\n",
       "      <td>46</td>\n",
       "      <td>1</td>\n",
       "      <td>3</td>\n",
       "      <td>0.884615</td>\n",
       "      <td>0.75</td>\n",
       "    </tr>\n",
       "    <tr>\n",
       "      <th>4</th>\n",
       "      <td>10/23/2022</td>\n",
       "      <td>59</td>\n",
       "      <td>1</td>\n",
       "      <td>4</td>\n",
       "      <td>1.134615</td>\n",
       "      <td>1.00</td>\n",
       "    </tr>\n",
       "  </tbody>\n",
       "</table>\n",
       "</div>"
      ],
      "text/plain": [
       "         DATE  UNLOCKSCREEN  COLDDAY  DRUNKCOFFEE  \\\n",
       "0  10/19/2022             7        0            0   \n",
       "1  10/20/2022            20        1            1   \n",
       "2  10/21/2022            33        1            2   \n",
       "3  10/22/2022            46        1            3   \n",
       "4  10/23/2022            59        1            4   \n",
       "\n",
       "   feature scaling UNLOCK SCREEN  feature scaling DRUNK COFFEE  \n",
       "0                       0.134615                          0.00  \n",
       "1                       0.384615                          0.25  \n",
       "2                       0.634615                          0.50  \n",
       "3                       0.884615                          0.75  \n",
       "4                       1.134615                          1.00  "
      ]
     },
     "execution_count": 125,
     "metadata": {},
     "output_type": "execute_result"
    }
   ],
   "source": [
    "import pandas as pd\n",
    "data = pd.read_csv('Data chart template - Template.csv')\n",
    "data\n"
   ]
  },
  {
   "cell_type": "code",
   "execution_count": 126,
   "metadata": {},
   "outputs": [
    {
     "data": {
      "text/plain": [
       "Index(['DATE', 'UNLOCKSCREEN', 'COLDDAY', 'DRUNKCOFFEE',\n",
       "       'feature scaling UNLOCK SCREEN', 'feature scaling DRUNK COFFEE'],\n",
       "      dtype='object')"
      ]
     },
     "execution_count": 126,
     "metadata": {},
     "output_type": "execute_result"
    }
   ],
   "source": [
    "data.columns\n"
   ]
  },
  {
   "cell_type": "code",
   "execution_count": 131,
   "metadata": {},
   "outputs": [
    {
     "ename": "AttributeError",
     "evalue": "'numpy.ndarray' object has no attribute 'UNLOCKSCREEN'",
     "output_type": "error",
     "traceback": [
      "\u001b[1;31m---------------------------------------------------------------------------\u001b[0m",
      "\u001b[1;31mAttributeError\u001b[0m                            Traceback (most recent call last)",
      "\u001b[1;32m<ipython-input-131-38442bdbafed>\u001b[0m in \u001b[0;36m<module>\u001b[1;34m\u001b[0m\n\u001b[1;32m----> 1\u001b[1;33m \u001b[0mdata\u001b[0m\u001b[1;33m.\u001b[0m\u001b[0mUNLOCKSCREEN\u001b[0m\u001b[1;33m\u001b[0m\u001b[1;33m\u001b[0m\u001b[0m\n\u001b[0m",
      "\u001b[1;31mAttributeError\u001b[0m: 'numpy.ndarray' object has no attribute 'UNLOCKSCREEN'"
     ]
    }
   ],
   "source": [
    "data.UNLOCKSCREEN\n"
   ]
  },
  {
   "cell_type": "code",
   "execution_count": 168,
   "metadata": {},
   "outputs": [
    {
     "name": "stdout",
     "output_type": "stream",
     "text": [
      "0    7\n",
      "Name: UNLOCKSCREEN, dtype: int64\n",
      "[[1. 1. 1. 1. 1.]\n",
      " [0. 0. 0. 0. 0.]]\n"
     ]
    }
   ],
   "source": [
    "\n",
    "from sklearn.preprocessing import MinMaxScaler\n",
    "from numpy import asarray\n",
    "import pandas as pd\n",
    "\n",
    "df = pd.read_csv('Data chart template - Template.csv')\n",
    "\n",
    "#data\n",
    "\n",
    "data = asarray([[7, 0],\n",
    "                              [20, 1],\n",
    "                              [33, 2],\n",
    "                              [46, 3],\n",
    "                              [59, 4]])\n",
    "\n",
    "data = (df.UNLOCKSCREEN,  df.DRUNKCOFFEE)\n",
    "\n",
    "new = data\n",
    "\n",
    "print(df.UNLOCKSCREEN\n",
    "      )\n",
    "# define min max scaler\n",
    "scaler = MinMaxScaler()\n",
    "# transform data\n",
    "scaled = scaler.fit_transform(data)\n",
    "\n",
    "print(scaled)\n"
   ]
  },
  {
   "cell_type": "code",
   "execution_count": 145,
   "metadata": {},
   "outputs": [
    {
     "name": "stdout",
     "output_type": "stream",
     "text": [
      "[[ 7  0]\n",
      " [20  1]\n",
      " [33  2]\n",
      " [46  3]\n",
      " [59  4]]\n",
      "[[-1.41421356 -1.41421356]\n",
      " [-0.70710678 -0.70710678]\n",
      " [ 0.          0.        ]\n",
      " [ 0.70710678  0.70710678]\n",
      " [ 1.41421356  1.41421356]]\n"
     ]
    }
   ],
   "source": [
    "from numpy import asarray\n",
    "from sklearn.preprocessing import StandardScaler\n",
    "\n",
    "print(new)\n",
    "# define standard scaler\n",
    "scaler = StandardScaler()\n",
    "# transform data\n",
    "scaled = scaler.fit_transform(new)\n",
    "print(scaled)\n"
   ]
  },
  {
   "cell_type": "code",
   "execution_count": null,
   "metadata": {},
   "outputs": [],
   "source": [
    "csvfile.close()\n"
   ]
  }
 ],
 "metadata": {
  "interpreter": {
   "hash": "fb698bdeab99cfbf9e31cab566d99a06e057f2dec3dcc8097ebabb329e860e16"
  },
  "kernelspec": {
   "display_name": "Python 3.8.5 64-bit ('base': conda)",
   "language": "python",
   "name": "python3"
  },
  "language_info": {
   "codemirror_mode": {
    "name": "ipython",
    "version": 3
   },
   "file_extension": ".py",
   "mimetype": "text/x-python",
   "name": "python",
   "nbconvert_exporter": "python",
   "pygments_lexer": "ipython3",
   "version": "3.8.5"
  },
  "orig_nbformat": 4
 },
 "nbformat": 4,
 "nbformat_minor": 2
}
