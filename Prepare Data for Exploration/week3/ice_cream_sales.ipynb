{
 "cells": [
  {
   "cell_type": "code",
   "execution_count": 1,
   "metadata": {},
   "outputs": [
    {
     "name": "stdout",
     "output_type": "stream",
     "text": [
      "0       chocolate\n",
      "1           lemon\n",
      "2      strawberry\n",
      "3         vanilla\n",
      "4       chocolate\n",
      "          ...    \n",
      "203       vanilla\n",
      "204     chocolate\n",
      "205         lemon\n",
      "206    strawberry\n",
      "207       vanilla\n",
      "Name: flavor, Length: 208, dtype: object\n"
     ]
    },
    {
     "data": {
      "text/plain": [
       "week           int64\n",
       "units_sold     int64\n",
       "flavor        object\n",
       "dtype: object"
      ]
     },
     "execution_count": 1,
     "metadata": {},
     "output_type": "execute_result"
    }
   ],
   "source": [
    "import pandas as pd\n",
    "data = pd.read_csv('Ice_Cream_Sales-flavors.csv')\n",
    "data\n",
    "\n",
    "print(data.flavor)\n",
    "data.columns\n",
    "data.dtypes\n",
    "\n"
   ]
  },
  {
   "cell_type": "code",
   "execution_count": 2,
   "metadata": {},
   "outputs": [
    {
     "name": "stdout",
     "output_type": "stream",
     "text": [
      "['chocolate', 'lemon', 'strawberry', 'vanilla']\n"
     ]
    }
   ],
   "source": [
    "sabores = []\n",
    "#sorteados.append(data.flavor[1])\n",
    "\n",
    "for count in range(0, len(data.flavor)):\n",
    "   #while len(data.flavor) >= len(sorteados):\n",
    "    if data.flavor[count] not in sabores:\n",
    "      sabores.append(data.flavor[count])\n",
    "      sabores.sort()\n",
    "\n",
    "print(sabores)\n"
   ]
  },
  {
   "cell_type": "code",
   "execution_count": 4,
   "metadata": {},
   "outputs": [
    {
     "ename": "IndentationError",
     "evalue": "unindent does not match any outer indentation level (<tokenize>, line 23)",
     "output_type": "error",
     "traceback": [
      "\u001b[1;36m  File \u001b[1;32m\"<tokenize>\"\u001b[1;36m, line \u001b[1;32m23\u001b[0m\n\u001b[1;33m    '''elif data.flavor[count] == sabores[1]:\u001b[0m\n\u001b[1;37m    ^\u001b[0m\n\u001b[1;31mIndentationError\u001b[0m\u001b[1;31m:\u001b[0m unindent does not match any outer indentation level\n"
     ]
    }
   ],
   "source": [
    "some = 0\n",
    "\n",
    "\"\"\"for c in range(0, 208):\n",
    "  print(data.units_sold[c])\"\"\"\n",
    "\n",
    "sabore = {'sabor': '',\n",
    "              'total' : 0}\n",
    "\n",
    "\"\"\"sabore = dict()\n",
    "sabore['sabor'] =  ''\n",
    "\n",
    "sabore['total'] = 0\"\"\"\n",
    "\n",
    "#for c in range(0, len(sabores)):\n",
    "   #while len(data.flavor) >= len(sorteados):\n",
    "for count in range(0, len(data.units_sold)):\n",
    "  for count in range(0, len(data.units_sold)):\n",
    "  if data.flavor[count] == sabores[0]:\n",
    "    #for k, v in sabore.items():\n",
    "      sabore[0] = sabores[0]\n",
    "      sabore['total'] = sabore['total'] + data.units_sold[count]\n",
    "        #sabore[1] = sabore[1] + data.units_sold[count]\n",
    "    '''elif data.flavor[count] == sabores[1]:\n",
    "        sabore['sabor'] = sabores[1]\n",
    "        sabore['total'] = sabore['total'] + data.units_sold[count]'''\n",
    "\n",
    "print(sabore)\n",
    "\n",
    "\n",
    "\n"
   ]
  },
  {
   "cell_type": "code",
   "execution_count": 11,
   "metadata": {},
   "outputs": [
    {
     "name": "stdout",
     "output_type": "stream",
     "text": [
      "0\n",
      "chocolate\n",
      "<zip object at 0x0000024604D52200>\n",
      "{'vendas': 'chocolate'}\n",
      "{'chocolate': 2, 'lemon': 3, 'strawberry': 5, 'vanilla': 2}\n"
     ]
    }
   ],
   "source": [
    "# https://thispointer.com/python-how-to-convert-a-list-to-dictionary/\n",
    "\n",
    "print(sabores.index('chocolate'))\n",
    "print(sabores[0])\n",
    "new = dict()\n",
    "#dictOfWords = dict.fromkeys(sabores, 1)\n",
    "#print(dictOfWords)\n",
    "totalValue = [2,  3, 5, 2,  3, 5]\n",
    "\n",
    " \n",
    "#for flavor in range(0, len(new)):\n",
    "'''for count in range(0, len(data.units_sold)):\n",
    "    if data.flavor[count] == sabores[0]:\n",
    "      total = []\n",
    "      total.append(data.units_sold[count])\n",
    "      totalValue.append(total)'''\n",
    "      \n",
    "\n",
    "#dictOfWords = dict.fromkeys(sabores, totalValue)\n",
    "zipOfWords = zip(sabores, totalValue)\n",
    "print (zipOfWords)\n",
    "dictOfWords = dict(zipOfWords)\n",
    "\n",
    "#new['vendas'] = total[:]\n",
    "new['vendas'] = sabores[0]\n",
    "#new['total'] = sum(total)\n",
    "\n",
    "print(new)\n",
    "print(dictOfWords)\n"
   ]
  },
  {
   "cell_type": "code",
   "execution_count": null,
   "metadata": {},
   "outputs": [],
   "source": []
  },
  {
   "cell_type": "code",
   "execution_count": null,
   "metadata": {},
   "outputs": [
    {
     "data": {
      "text/plain": [
       "2099"
      ]
     },
     "execution_count": 5,
     "metadata": {},
     "output_type": "execute_result"
    }
   ],
   "source": [
    "dist = 0\n",
    "for row in data.units_sold:\n",
    "    _dist = row\n",
    "    try:\n",
    "        _dist = int(_dist)\n",
    "    except ValueError:\n",
    "        _dist = 0\n",
    "\n",
    "    dist += _dist\n",
    "    \n",
    "dist\n"
   ]
  }
 ],
 "metadata": {
  "interpreter": {
   "hash": "fb698bdeab99cfbf9e31cab566d99a06e057f2dec3dcc8097ebabb329e860e16"
  },
  "kernelspec": {
   "display_name": "Python 3.8.5 64-bit ('base': conda)",
   "language": "python",
   "name": "python3"
  },
  "language_info": {
   "codemirror_mode": {
    "name": "ipython",
    "version": 3
   },
   "file_extension": ".py",
   "mimetype": "text/x-python",
   "name": "python",
   "nbconvert_exporter": "python",
   "pygments_lexer": "ipython3",
   "version": "3.8.5"
  },
  "orig_nbformat": 4
 },
 "nbformat": 4,
 "nbformat_minor": 2
}
