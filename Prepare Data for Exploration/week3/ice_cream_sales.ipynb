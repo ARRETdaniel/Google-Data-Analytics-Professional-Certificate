{
 "cells": [
  {
   "cell_type": "code",
   "execution_count": 2,
   "metadata": {},
   "outputs": [
    {
     "name": "stdout",
     "output_type": "stream",
     "text": [
      "0       chocolate\n",
      "1           lemon\n",
      "2      strawberry\n",
      "3         vanilla\n",
      "4       chocolate\n",
      "          ...    \n",
      "203       vanilla\n",
      "204     chocolate\n",
      "205         lemon\n",
      "206    strawberry\n",
      "207       vanilla\n",
      "Name: flavor, Length: 208, dtype: object\n"
     ]
    },
    {
     "data": {
      "text/plain": [
       "week           int64\n",
       "units_sold     int64\n",
       "flavor        object\n",
       "dtype: object"
      ]
     },
     "execution_count": 2,
     "metadata": {},
     "output_type": "execute_result"
    }
   ],
   "source": [
    "import pandas as pd\n",
    "data = pd.read_csv('Ice_Cream_Sales-flavors.csv')\n",
    "data\n",
    "\n",
    "print(data.flavor)\n",
    "data.columns\n",
    "data.dtypes\n",
    "\n"
   ]
  },
  {
   "cell_type": "code",
   "execution_count": 3,
   "metadata": {},
   "outputs": [
    {
     "name": "stdout",
     "output_type": "stream",
     "text": [
      "['chocolate', 'lemon', 'strawberry', 'vanilla']\n"
     ]
    }
   ],
   "source": [
    "sabores = []\n",
    "#sorteados.append(data.flavor[1])\n",
    "\n",
    "for count in range(0, len(data.flavor)):\n",
    "   #while len(data.flavor) >= len(sorteados):\n",
    "    if data.flavor[count] not in sabores:\n",
    "      sabores.append(data.flavor[count])\n",
    "      sabores.sort()\n",
    "\n",
    "print(sabores)\n"
   ]
  },
  {
   "cell_type": "code",
   "execution_count": 21,
   "metadata": {},
   "outputs": [
    {
     "name": "stdout",
     "output_type": "stream",
     "text": [
      "{'sabor': 'chocolate', 'total': 460}\n"
     ]
    }
   ],
   "source": [
    "some = 0\n",
    "\n",
    "\"\"\"for c in range(0, 208):\n",
    "  print(data.units_sold[c])\"\"\"\n",
    "sabore = dict()\n",
    "total = 0\n",
    "sabore['sabor'] = None\n",
    "sabore['total'] = 0\n",
    "\n",
    "#for c in range(0, len(sabores)):\n",
    "for count in range(0, len(data.units_sold)):\n",
    "   #while len(data.flavor) >= len(sorteados):\n",
    "    if data.flavor[count] == sabores[0]:\n",
    "        sabore['sabor'] = (sabores[0])\n",
    "        sabore['total'] = sabore['total'] + data.units_sold[count]\n",
    "      \n",
    "\n",
    "print(sabore)\n",
    "\n",
    "\n"
   ]
  },
  {
   "cell_type": "code",
   "execution_count": 25,
   "metadata": {},
   "outputs": [
    {
     "data": {
      "text/plain": [
       "2099"
      ]
     },
     "execution_count": 25,
     "metadata": {},
     "output_type": "execute_result"
    }
   ],
   "source": [
    "dist = 0\n",
    "for row in data.units_sold:\n",
    "    _dist = row\n",
    "    try:\n",
    "        _dist = int(_dist)\n",
    "    except ValueError:\n",
    "        _dist = 0\n",
    "\n",
    "    dist += _dist\n",
    "    \n",
    "dist\n"
   ]
  }
 ],
 "metadata": {
  "interpreter": {
   "hash": "fb698bdeab99cfbf9e31cab566d99a06e057f2dec3dcc8097ebabb329e860e16"
  },
  "kernelspec": {
   "display_name": "Python 3.8.5 64-bit ('base': conda)",
   "language": "python",
   "name": "python3"
  },
  "language_info": {
   "codemirror_mode": {
    "name": "ipython",
    "version": 3
   },
   "file_extension": ".py",
   "mimetype": "text/x-python",
   "name": "python",
   "nbconvert_exporter": "python",
   "pygments_lexer": "ipython3",
   "version": "3.8.5"
  },
  "orig_nbformat": 4
 },
 "nbformat": 4,
 "nbformat_minor": 2
}
