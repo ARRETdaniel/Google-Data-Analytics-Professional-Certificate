{
 "cells": [
  {
   "cell_type": "code",
   "execution_count": null,
   "id": "d79a8b59",
   "metadata": {},
   "outputs": [],
   "source": [
    "bars_df <- read.csv(\"flavors_of_cacao.cs\n",
    "v\")"
   ]
  },
  {
   "cell_type": "code",
   "execution_count": null,
   "id": "d28d4196",
   "metadata": {},
   "outputs": [],
   "source": [
    "library(dplyr)\n",
    "\n",
    "glimpse(flavors_df)\n"
   ]
  }
 ],
 "metadata": {
  "kernelspec": {
   "display_name": "R",
   "language": "R",
   "name": "ir"
  },
  "language_info": {
   "codemirror_mode": "r",
   "file_extension": ".r",
   "mimetype": "text/x-r-source",
   "name": "R",
   "pygments_lexer": "r",
   "version": "4.1.3"
  }
 },
 "nbformat": 4,
 "nbformat_minor": 5
}
